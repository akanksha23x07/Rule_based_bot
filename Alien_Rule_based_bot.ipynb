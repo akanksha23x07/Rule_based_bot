{
  "nbformat": 4,
  "nbformat_minor": 0,
  "metadata": {
    "colab": {
      "provenance": []
    },
    "kernelspec": {
      "name": "python3",
      "display_name": "Python 3"
    },
    "language_info": {
      "name": "python"
    }
  },
  "cells": [
    {
      "cell_type": "code",
      "execution_count": 9,
      "metadata": {
        "id": "EZjr4GkVCeWQ"
      },
      "outputs": [],
      "source": [
        "import re\n",
        "import random"
      ]
    },
    {
      "cell_type": "code",
      "source": [
        "class RuleBot:\n",
        "  ### Potential Negative Responses\n",
        "  negative_responses = (\"no\", \"nope\", \"nah\", \"not a chance\", \"sorry\")\n",
        "\n",
        "  ### Exit conversation Keywords\n",
        "  exit_commands = (\"quit\", \"pause\", \"exit\", \"goodbye\", \"bye\", \"later\")\n",
        "\n",
        "  ### Random starter Questions\n",
        "  random_questions = (\n",
        "      \"Why are you here? \",\n",
        "      \"Are there many humans like you? \",\n",
        "      \"What do you consume for sustenance? \",\n",
        "      \"Is there intelligent life on this planet? \",\n",
        "      \"Does Earth have a leader? \",\n",
        "      \"What planets have you visited? \",\n",
        "      \"What technology do you have on this planet? \"\n",
        "  )\n",
        "\n",
        "  def __init__(self):\n",
        "    self.alienbabble = {'describe_planet_intent': r'.*\\s*your planet.*',\n",
        "                        'answer_why_intent': r'why\\sare.*',\n",
        "                        'about_akanksha': r'.*\\s*akanksha'\n",
        "                        }\n",
        "\n",
        "  def greet(self):\n",
        "    self.name = input(\"What is your name?\\n\")\n",
        "    will_help = input(\n",
        "        f\"Hi {self.name}, I am Rule-Bot. Will you help me learn about your planet?\\n\" )\n",
        "    if will_help in self.negative_responses:\n",
        "      print(\"okay, Have a nice Earth day!\")\n",
        "      return\n",
        "    self.chat()\n",
        "\n",
        "  def make_exit(self, reply):\n",
        "    for command in self.exit_commands:\n",
        "      if reply == command:\n",
        "        print(\"okay, Have a nice Earth day!\")\n",
        "        return True\n",
        "\n",
        "  def chat(self):\n",
        "    reply = input(random.choice(self.random_questions)).lower()\n",
        "    while not self.make_exit(reply):\n",
        "      reply = input(self.match_reply(reply))\n",
        "\n",
        "  def match_reply(self, reply):\n",
        "    for key, value in self.alienbabble.items():\n",
        "      intent = key\n",
        "      regex_pattern = value\n",
        "      found_match = re.match(regex_pattern, reply)\n",
        "      if found_match and intent == \"answer_why_intent\":\n",
        "        return self.answer_why_intent()\n",
        "      elif found_match and intent ==\"describe_planet_intent\":\n",
        "        return self.describe_planet_intent()\n",
        "      elif found_match and intent == \"about_akanksha\":\n",
        "        return self.about_akanksha()\n",
        "\n",
        "    if not found_match:\n",
        "      return self.no_match_intent()\n",
        "\n",
        "  def describe_planet_intent(self):\n",
        "    responses = (\"My planet is a Utopia of diverse organisms and species.\\n\",\n",
        "                 \"I am from Opidius, the capital of the Wayward Galaxies.\\n\")\n",
        "    return random.choice(responses)\n",
        "\n",
        "\n",
        "  def answer_why_intent(self):\n",
        "    responses = (\"I come in peace\\n\",\n",
        "                 \"I am here to collect data on your planet and its inhabitants\\n\",\n",
        "                 \"I want COFFEE and CAKE please...\")\n",
        "    return random.choice(responses)\n",
        "\n",
        "  def about_akanksha(self):\n",
        "    responses = (\"Akanksha is a girl who runs on COFFEE and MUSIC\\n\",\n",
        "                 \"aka S(POTIFY)\\n\",\n",
        "                 \"Shes loving coding and python and creating bots, whahahahahaha\\n\")\n",
        "    return random.choice(responses)\n",
        "\n",
        "  def no_match_intent(self):\n",
        "    responses = (\"Please tell me more.\\n\",\n",
        "                 \"Tell me more!\\n\",\n",
        "                 \"Why do you say that?\\n\",\n",
        "                 \"I see. Can you elaborate?\\n\",\n",
        "                 \"Interesting. Can you tell me more?\\n\",\n",
        "                 \"I see, how do you think?\\n\",\n",
        "                 \"How do you think I feel when you say that?\\n\"\n",
        "    )\n",
        "    return random.choice(responses)\n",
        "\n"
      ],
      "metadata": {
        "id": "t1aeIHDGCh6H"
      },
      "execution_count": null,
      "outputs": []
    },
    {
      "cell_type": "code",
      "source": [
        "AlienBot = RuleBot()\n",
        "AlienBot.greet()"
      ],
      "metadata": {
        "id": "XUvbtzt1UiOX",
        "outputId": "10d2c2bd-b8bf-4e69-ee8c-de6b26f6eb89",
        "colab": {
          "base_uri": "https://localhost:8080/"
        }
      },
      "execution_count": 10,
      "outputs": [
        {
          "output_type": "stream",
          "name": "stdout",
          "text": [
            "What is your name?\n",
            "Natasha\n",
            "Hi Natasha, I am Rule-Bot. Will you help me learn about your planet?\n",
            "okay\n",
            "What do you consume for sustenance? food\n",
            "Tell me more!\n",
            "no, you teel me about your planet?\n",
            "My planet is a Utopia of diverse organisms and species.\n",
            "humm, more on your planet?\n",
            "My planet is a Utopia of diverse organisms and species.\n",
            "anything else on youtr planet?\n",
            "Why do you say that?\n",
            "because i wanna know about you.\n",
            "I see. Can you elaborate?\n",
            "humm, Tell me about your planet?\n",
            "My planet is a Utopia of diverse organisms and species.\n",
            "how about akanksha?\n",
            "Akanksha is a girl who runs on COFFEE and MUSIC\n",
            "she sounds cool, tell me more about akanksha?\n",
            "Shes loving coding and python and creating bots, whahahahahahahaha, awesome, now your planet?\n",
            "I am from Opidius, the capital of the Wayward Galaxies.\n",
            "cool, wish i could go there...\n",
            "Tell me more!\n",
            "later\n",
            "okay, Have a nice Earth day!\n"
          ]
        }
      ]
    },
    {
      "cell_type": "code",
      "source": [
        "|"
      ],
      "metadata": {
        "id": "9IdqaU2LUts4"
      },
      "execution_count": null,
      "outputs": []
    }
  ]
}